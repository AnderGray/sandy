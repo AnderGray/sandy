{
 "cells": [
  {
   "cell_type": "code",
   "execution_count": null,
   "id": "7bb724db",
   "metadata": {},
   "outputs": [],
   "source": [
    "import sandy"
   ]
  },
  {
   "cell_type": "markdown",
   "id": "4f4bfc93",
   "metadata": {},
   "source": [
    "in this notebook i will try to do a perturbation on the first positive capture resonance of the Uranium 238"
   ]
  },
  {
   "cell_type": "code",
   "execution_count": null,
   "id": "408ac764",
   "metadata": {},
   "outputs": [],
   "source": [
    "tape = sandy.get_endf6_file(\"jeff_33\", \"xs\", 922380)"
   ]
  },
  {
   "cell_type": "code",
   "execution_count": null,
   "id": "6b6e30f9",
   "metadata": {},
   "outputs": [],
   "source": [
    "resonance_section = sandy.read_mf2(tape, tape.mat[0])\n",
    "print(sandy.write_mf2(resonance_section)[2024:2430])"
   ]
  },
  {
   "cell_type": "code",
   "execution_count": null,
   "id": "6ffa0507",
   "metadata": {},
   "outputs": [],
   "source": [
    "isotope = 92238\n",
    "lower_energy = 1e-5\n",
    "upper_energy = 2e4\n",
    "erange = (lower_energy, upper_energy)\n",
    "l = 0   # write what l is"
   ]
  },
  {
   "cell_type": "markdown",
   "id": "02e9ee80",
   "metadata": {},
   "source": [
    "Print resonance parematers for first U238 resonance at 6.67428 EV"
   ]
  },
  {
   "cell_type": "code",
   "execution_count": null,
   "id": "ccc85fea",
   "metadata": {
    "scrolled": false
   },
   "outputs": [],
   "source": [
    "resonance_section['NIS']['ISO'][isotope][\"NER\"][erange]['L'][l][\"RES_PAR\"][22][\"GG\"]"
   ]
  },
  {
   "cell_type": "code",
   "execution_count": null,
   "id": "86cf9c2c",
   "metadata": {},
   "outputs": [],
   "source": [
    "gamma_width = resonance_section['NIS']['ISO'][92238][\"NER\"][(1e-05, 20000.0)]['L'][l][\"RES_PAR\"][22][\"GG\"]"
   ]
  },
  {
   "cell_type": "markdown",
   "id": "d6cef691",
   "metadata": {},
   "source": [
    "Introduce 10% perturbation "
   ]
  },
  {
   "cell_type": "code",
   "execution_count": null,
   "id": "3f474c3f",
   "metadata": {},
   "outputs": [],
   "source": [
    "gamma_width_perturbed =  gamma_width * 1.1\n",
    "print(gamma_width_perturbed)"
   ]
  },
  {
   "cell_type": "code",
   "execution_count": null,
   "id": "b75b0f2e",
   "metadata": {},
   "outputs": [],
   "source": [
    "resonance_section['NIS']['ISO'][92238][\"NER\"][(1e-05, 20000.0)]['L'][l][\"RES_PAR\"][22][\"GG\"] = gamma_width_perturbed"
   ]
  },
  {
   "cell_type": "code",
   "execution_count": null,
   "id": "3a10b47c",
   "metadata": {},
   "outputs": [],
   "source": [
    "resonance_section_perturbed = sandy.write_mf2(resonance_section)\n",
    "print(resonance_section_perturbed[2024:2430])"
   ]
  }
 ],
 "metadata": {
  "kernelspec": {
   "display_name": "Python 3 (ipykernel)",
   "language": "python",
   "name": "python3"
  },
  "language_info": {
   "codemirror_mode": {
    "name": "ipython",
    "version": 3
   },
   "file_extension": ".py",
   "mimetype": "text/x-python",
   "name": "python",
   "nbconvert_exporter": "python",
   "pygments_lexer": "ipython3",
   "version": "3.7.12"
  }
 },
 "nbformat": 4,
 "nbformat_minor": 5
}
